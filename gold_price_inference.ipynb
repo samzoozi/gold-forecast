{
 "cells": [
  {
   "cell_type": "code",
   "execution_count": 13,
   "metadata": {},
   "outputs": [],
   "source": [
    "import xgboost as xgb\n",
    "import pickle\n",
    "from yahoofinancials import YahooFinancials\n",
    "import pandas as pd\n",
    "import numpy as np\n",
    "import json\n",
    "import seaborn as sns\n",
    "from datetime import datetime\n",
    "from datetime import date\n",
    "from datetime import timedelta\n",
    "import matplotlib.pyplot as plt\n",
    "from sklearn.linear_model import LinearRegression\n",
    "from sklearn.metrics import mean_squared_error, r2_score\n",
    "\n",
    "from helper import extract_data, create_features, sorted_correlations_with_gold, remove_correlated_features"
   ]
  },
  {
   "cell_type": "code",
   "execution_count": 14,
   "metadata": {},
   "outputs": [],
   "source": [
    "with open(\"tickers.json\", \"r\") as f:\n",
    "    tickers = json.loads(f.read())"
   ]
  },
  {
   "cell_type": "code",
   "execution_count": 15,
   "metadata": {},
   "outputs": [],
   "source": [
    "# load model\n",
    "model = pickle.load(open(\"model/gold_price.pickle.dat\", \"rb\"))\n",
    "\n",
    "# load features\n",
    "features_list = []\n",
    "\n",
    "with open('model/features.txt', 'r') as f:\n",
    "    for line in f:\n",
    "        features_list.append(line[:-1])"
   ]
  },
  {
   "cell_type": "code",
   "execution_count": 16,
   "metadata": {},
   "outputs": [
    {
     "name": "stdout",
     "output_type": "stream",
     "text": [
      "start_date: 2020-01-03\n",
      "end_date: 2020-07-21\n",
      "forecasting price of gold for 2020-07-24\n"
     ]
    }
   ],
   "source": [
    "n_days_ahead = 3\n",
    "\n",
    "latest_date = date.today()\n",
    "end_date = latest_date.strftime(\"%Y-%m-%d\")\n",
    "start_date = (latest_date - timedelta(days=200)).strftime(\"%Y-%m-%d\")\n",
    "print(\"start_date: %s\" %start_date)\n",
    "print(\"end_date: %s\" %end_date)\n",
    "print(\"forecasting price of gold for %s\" %(latest_date+ timedelta(days=n_days_ahead)).strftime(\"%Y-%m-%d\"))"
   ]
  },
  {
   "cell_type": "markdown",
   "metadata": {},
   "source": [
    "# Data Extraction"
   ]
  },
  {
   "cell_type": "code",
   "execution_count": 17,
   "metadata": {},
   "outputs": [
    {
     "data": {
      "text/html": [
       "<div>\n",
       "<style scoped>\n",
       "    .dataframe tbody tr th:only-of-type {\n",
       "        vertical-align: middle;\n",
       "    }\n",
       "\n",
       "    .dataframe tbody tr th {\n",
       "        vertical-align: top;\n",
       "    }\n",
       "\n",
       "    .dataframe thead th {\n",
       "        text-align: right;\n",
       "    }\n",
       "</style>\n",
       "<table border=\"1\" class=\"dataframe\">\n",
       "  <thead>\n",
       "    <tr style=\"text-align: right;\">\n",
       "      <th></th>\n",
       "      <th>date</th>\n",
       "      <th>Gold</th>\n",
       "      <th>Silver</th>\n",
       "      <th>Crude Oil</th>\n",
       "      <th>S&amp;P500</th>\n",
       "      <th>10 Yr US T-Note futures</th>\n",
       "      <th>2 Yr US T-Note Futures</th>\n",
       "      <th>Platinum</th>\n",
       "      <th>Copper</th>\n",
       "      <th>Dollar Index</th>\n",
       "      <th>Volatility Index</th>\n",
       "      <th>MSCI EM ETF</th>\n",
       "      <th>Euro USD</th>\n",
       "      <th>Euronext100</th>\n",
       "    </tr>\n",
       "  </thead>\n",
       "  <tbody>\n",
       "    <tr>\n",
       "      <th>196</th>\n",
       "      <td>2020-07-17</td>\n",
       "      <td>1812.1</td>\n",
       "      <td>19.75</td>\n",
       "      <td>40.57</td>\n",
       "      <td>3224.73</td>\n",
       "      <td>139.36</td>\n",
       "      <td>110.41</td>\n",
       "      <td>851.4</td>\n",
       "      <td>2.90</td>\n",
       "      <td>96.07</td>\n",
       "      <td>25.68</td>\n",
       "      <td>42.77</td>\n",
       "      <td>1.14</td>\n",
       "      <td>1006.22</td>\n",
       "    </tr>\n",
       "    <tr>\n",
       "      <th>197</th>\n",
       "      <td>2020-07-18</td>\n",
       "      <td>1812.1</td>\n",
       "      <td>19.75</td>\n",
       "      <td>40.57</td>\n",
       "      <td>3224.73</td>\n",
       "      <td>139.36</td>\n",
       "      <td>110.41</td>\n",
       "      <td>851.4</td>\n",
       "      <td>2.90</td>\n",
       "      <td>96.07</td>\n",
       "      <td>25.68</td>\n",
       "      <td>42.77</td>\n",
       "      <td>1.14</td>\n",
       "      <td>1006.22</td>\n",
       "    </tr>\n",
       "    <tr>\n",
       "      <th>198</th>\n",
       "      <td>2020-07-19</td>\n",
       "      <td>1810.5</td>\n",
       "      <td>19.75</td>\n",
       "      <td>40.63</td>\n",
       "      <td>3224.73</td>\n",
       "      <td>139.34</td>\n",
       "      <td>110.41</td>\n",
       "      <td>852.5</td>\n",
       "      <td>2.91</td>\n",
       "      <td>96.07</td>\n",
       "      <td>25.68</td>\n",
       "      <td>42.77</td>\n",
       "      <td>1.14</td>\n",
       "      <td>1006.22</td>\n",
       "    </tr>\n",
       "    <tr>\n",
       "      <th>199</th>\n",
       "      <td>2020-07-20</td>\n",
       "      <td>1819.6</td>\n",
       "      <td>20.36</td>\n",
       "      <td>40.65</td>\n",
       "      <td>3251.84</td>\n",
       "      <td>139.42</td>\n",
       "      <td>110.42</td>\n",
       "      <td>862.6</td>\n",
       "      <td>2.93</td>\n",
       "      <td>96.07</td>\n",
       "      <td>24.46</td>\n",
       "      <td>43.32</td>\n",
       "      <td>1.14</td>\n",
       "      <td>1012.81</td>\n",
       "    </tr>\n",
       "    <tr>\n",
       "      <th>200</th>\n",
       "      <td>2020-07-21</td>\n",
       "      <td>1828.6</td>\n",
       "      <td>20.95</td>\n",
       "      <td>42.16</td>\n",
       "      <td>3267.09</td>\n",
       "      <td>139.38</td>\n",
       "      <td>110.41</td>\n",
       "      <td>879.8</td>\n",
       "      <td>2.94</td>\n",
       "      <td>95.33</td>\n",
       "      <td>24.14</td>\n",
       "      <td>43.88</td>\n",
       "      <td>1.15</td>\n",
       "      <td>1019.42</td>\n",
       "    </tr>\n",
       "  </tbody>\n",
       "</table>\n",
       "</div>"
      ],
      "text/plain": [
       "          date    Gold  Silver  Crude Oil   S&P500  10 Yr US T-Note futures  \\\n",
       "196 2020-07-17  1812.1   19.75      40.57  3224.73                   139.36   \n",
       "197 2020-07-18  1812.1   19.75      40.57  3224.73                   139.36   \n",
       "198 2020-07-19  1810.5   19.75      40.63  3224.73                   139.34   \n",
       "199 2020-07-20  1819.6   20.36      40.65  3251.84                   139.42   \n",
       "200 2020-07-21  1828.6   20.95      42.16  3267.09                   139.38   \n",
       "\n",
       "     2 Yr US T-Note Futures  Platinum  Copper  Dollar Index  Volatility Index  \\\n",
       "196                  110.41     851.4    2.90         96.07             25.68   \n",
       "197                  110.41     851.4    2.90         96.07             25.68   \n",
       "198                  110.41     852.5    2.91         96.07             25.68   \n",
       "199                  110.42     862.6    2.93         96.07             24.46   \n",
       "200                  110.41     879.8    2.94         95.33             24.14   \n",
       "\n",
       "     MSCI EM ETF  Euro USD  Euronext100  \n",
       "196        42.77      1.14      1006.22  \n",
       "197        42.77      1.14      1006.22  \n",
       "198        42.77      1.14      1006.22  \n",
       "199        43.32      1.14      1012.81  \n",
       "200        43.88      1.15      1019.42  "
      ]
     },
     "execution_count": 17,
     "metadata": {},
     "output_type": "execute_result"
    }
   ],
   "source": [
    "infer_values = extract_data(start_date,(latest_date+timedelta(days=1)).strftime(\"%Y-%m-%d\"), tickers)\n",
    "infer_values.tail()"
   ]
  },
  {
   "cell_type": "code",
   "execution_count": 18,
   "metadata": {},
   "outputs": [
    {
     "data": {
      "text/plain": [
       "['Gold_t-1',\n",
       " 'Gold_t-7',\n",
       " 'Gold_t-14',\n",
       " 'Silver_t-2',\n",
       " '10 Yr US T-Note futures_t-21',\n",
       " '10 Yr US T-Note futures_t-30',\n",
       " 'Euronext100_t-1',\n",
       " 'Platinum_t-2',\n",
       " 'Volatility Index_t-30',\n",
       " 'Gold_rocr_3',\n",
       " '10 Yr US T-Note futures_rocr_3']"
      ]
     },
     "execution_count": 18,
     "metadata": {},
     "output_type": "execute_result"
    }
   ],
   "source": [
    "features_list"
   ]
  },
  {
   "cell_type": "markdown",
   "metadata": {},
   "source": [
    "# Create Features"
   ]
  },
  {
   "cell_type": "code",
   "execution_count": 19,
   "metadata": {},
   "outputs": [
    {
     "data": {
      "text/html": [
       "<div>\n",
       "<style scoped>\n",
       "    .dataframe tbody tr th:only-of-type {\n",
       "        vertical-align: middle;\n",
       "    }\n",
       "\n",
       "    .dataframe tbody tr th {\n",
       "        vertical-align: top;\n",
       "    }\n",
       "\n",
       "    .dataframe thead th {\n",
       "        text-align: right;\n",
       "    }\n",
       "</style>\n",
       "<table border=\"1\" class=\"dataframe\">\n",
       "  <thead>\n",
       "    <tr style=\"text-align: right;\">\n",
       "      <th></th>\n",
       "      <th>date</th>\n",
       "      <th>Gold_t-1</th>\n",
       "      <th>Gold_t-7</th>\n",
       "      <th>Gold_t-14</th>\n",
       "      <th>Silver_t-2</th>\n",
       "      <th>10 Yr US T-Note futures_t-21</th>\n",
       "      <th>10 Yr US T-Note futures_t-30</th>\n",
       "      <th>Euronext100_t-1</th>\n",
       "      <th>Platinum_t-2</th>\n",
       "      <th>Volatility Index_t-30</th>\n",
       "      <th>Gold_rocr_3</th>\n",
       "      <th>10 Yr US T-Note futures_rocr_3</th>\n",
       "    </tr>\n",
       "  </thead>\n",
       "  <tbody>\n",
       "    <tr>\n",
       "      <th>16</th>\n",
       "      <td>2020-07-17</td>\n",
       "      <td>0.007954</td>\n",
       "      <td>0.004601</td>\n",
       "      <td>0.018091</td>\n",
       "      <td>-0.005539</td>\n",
       "      <td>0.003240</td>\n",
       "      <td>0.006645</td>\n",
       "      <td>-0.002360</td>\n",
       "      <td>0.006621</td>\n",
       "      <td>-0.232746</td>\n",
       "      <td>-18.025135</td>\n",
       "      <td>-0.312029</td>\n",
       "    </tr>\n",
       "    <tr>\n",
       "      <th>17</th>\n",
       "      <td>2020-07-18</td>\n",
       "      <td>0.000000</td>\n",
       "      <td>0.004601</td>\n",
       "      <td>0.018091</td>\n",
       "      <td>0.011783</td>\n",
       "      <td>0.003240</td>\n",
       "      <td>0.005556</td>\n",
       "      <td>0.000000</td>\n",
       "      <td>0.020741</td>\n",
       "      <td>-0.220401</td>\n",
       "      <td>-0.000000</td>\n",
       "      <td>0.000000</td>\n",
       "    </tr>\n",
       "    <tr>\n",
       "      <th>18</th>\n",
       "      <td>2020-07-19</td>\n",
       "      <td>-0.000883</td>\n",
       "      <td>0.003547</td>\n",
       "      <td>0.013264</td>\n",
       "      <td>0.000000</td>\n",
       "      <td>0.003096</td>\n",
       "      <td>0.003674</td>\n",
       "      <td>0.000000</td>\n",
       "      <td>0.001292</td>\n",
       "      <td>-0.268793</td>\n",
       "      <td>-0.124990</td>\n",
       "      <td>0.285817</td>\n",
       "    </tr>\n",
       "    <tr>\n",
       "      <th>19</th>\n",
       "      <td>2020-07-20</td>\n",
       "      <td>0.005026</td>\n",
       "      <td>0.009823</td>\n",
       "      <td>0.016536</td>\n",
       "      <td>0.030886</td>\n",
       "      <td>0.001437</td>\n",
       "      <td>0.004250</td>\n",
       "      <td>0.006549</td>\n",
       "      <td>0.013155</td>\n",
       "      <td>-0.303531</td>\n",
       "      <td>1.214406</td>\n",
       "      <td>1.333525</td>\n",
       "    </tr>\n",
       "    <tr>\n",
       "      <th>20</th>\n",
       "      <td>2020-07-21</td>\n",
       "      <td>0.004946</td>\n",
       "      <td>0.008660</td>\n",
       "      <td>0.019571</td>\n",
       "      <td>0.060759</td>\n",
       "      <td>0.000359</td>\n",
       "      <td>0.003962</td>\n",
       "      <td>0.006526</td>\n",
       "      <td>0.032023</td>\n",
       "      <td>-0.312642</td>\n",
       "      <td>0.543206</td>\n",
       "      <td>-1.999139</td>\n",
       "    </tr>\n",
       "  </tbody>\n",
       "</table>\n",
       "</div>"
      ],
      "text/plain": [
       "         date  Gold_t-1  Gold_t-7  Gold_t-14  Silver_t-2  \\\n",
       "16 2020-07-17  0.007954  0.004601   0.018091   -0.005539   \n",
       "17 2020-07-18  0.000000  0.004601   0.018091    0.011783   \n",
       "18 2020-07-19 -0.000883  0.003547   0.013264    0.000000   \n",
       "19 2020-07-20  0.005026  0.009823   0.016536    0.030886   \n",
       "20 2020-07-21  0.004946  0.008660   0.019571    0.060759   \n",
       "\n",
       "    10 Yr US T-Note futures_t-21  10 Yr US T-Note futures_t-30  \\\n",
       "16                      0.003240                      0.006645   \n",
       "17                      0.003240                      0.005556   \n",
       "18                      0.003096                      0.003674   \n",
       "19                      0.001437                      0.004250   \n",
       "20                      0.000359                      0.003962   \n",
       "\n",
       "    Euronext100_t-1  Platinum_t-2  Volatility Index_t-30  Gold_rocr_3  \\\n",
       "16        -0.002360      0.006621              -0.232746   -18.025135   \n",
       "17         0.000000      0.020741              -0.220401    -0.000000   \n",
       "18         0.000000      0.001292              -0.268793    -0.124990   \n",
       "19         0.006549      0.013155              -0.303531     1.214406   \n",
       "20         0.006526      0.032023              -0.312642     0.543206   \n",
       "\n",
       "    10 Yr US T-Note futures_rocr_3  \n",
       "16                       -0.312029  \n",
       "17                        0.000000  \n",
       "18                        0.285817  \n",
       "19                        1.333525  \n",
       "20                       -1.999139  "
      ]
     },
     "execution_count": 19,
     "metadata": {},
     "output_type": "execute_result"
    }
   ],
   "source": [
    "infer_features = create_features(infer_values)\n",
    "infer_features = infer_features[['date']+features_list]\n",
    "infer_features.tail()"
   ]
  },
  {
   "cell_type": "markdown",
   "metadata": {},
   "source": [
    "# Prediction"
   ]
  },
  {
   "cell_type": "code",
   "execution_count": 20,
   "metadata": {},
   "outputs": [],
   "source": [
    "output = model.predict(infer_features.iloc[:,1:])\n",
    "df_predict = pd.DataFrame()\n",
    "df_predict['date'] = infer_features['date']\n",
    "df_predict['return_prediction'] = output\n"
   ]
  },
  {
   "cell_type": "code",
   "execution_count": 21,
   "metadata": {},
   "outputs": [
    {
     "data": {
      "text/html": [
       "<div>\n",
       "<style scoped>\n",
       "    .dataframe tbody tr th:only-of-type {\n",
       "        vertical-align: middle;\n",
       "    }\n",
       "\n",
       "    .dataframe tbody tr th {\n",
       "        vertical-align: top;\n",
       "    }\n",
       "\n",
       "    .dataframe thead th {\n",
       "        text-align: right;\n",
       "    }\n",
       "</style>\n",
       "<table border=\"1\" class=\"dataframe\">\n",
       "  <thead>\n",
       "    <tr style=\"text-align: right;\">\n",
       "      <th></th>\n",
       "      <th>date</th>\n",
       "      <th>Gold</th>\n",
       "      <th>return_prediction</th>\n",
       "      <th>predicted_price</th>\n",
       "    </tr>\n",
       "  </thead>\n",
       "  <tbody>\n",
       "    <tr>\n",
       "      <th>14</th>\n",
       "      <td>2020-07-15</td>\n",
       "      <td>1815.0</td>\n",
       "      <td>0.000156</td>\n",
       "      <td>1804.433997</td>\n",
       "    </tr>\n",
       "    <tr>\n",
       "      <th>15</th>\n",
       "      <td>2020-07-16</td>\n",
       "      <td>1797.8</td>\n",
       "      <td>0.000553</td>\n",
       "      <td>1802.940722</td>\n",
       "    </tr>\n",
       "    <tr>\n",
       "      <th>16</th>\n",
       "      <td>2020-07-17</td>\n",
       "      <td>1812.1</td>\n",
       "      <td>0.000383</td>\n",
       "      <td>1813.235626</td>\n",
       "    </tr>\n",
       "    <tr>\n",
       "      <th>17</th>\n",
       "      <td>2020-07-18</td>\n",
       "      <td>1812.1</td>\n",
       "      <td>0.000185</td>\n",
       "      <td>1815.283871</td>\n",
       "    </tr>\n",
       "    <tr>\n",
       "      <th>18</th>\n",
       "      <td>2020-07-19</td>\n",
       "      <td>1810.5</td>\n",
       "      <td>0.002171</td>\n",
       "      <td>1798.795062</td>\n",
       "    </tr>\n",
       "    <tr>\n",
       "      <th>19</th>\n",
       "      <td>2020-07-20</td>\n",
       "      <td>1819.6</td>\n",
       "      <td>0.001407</td>\n",
       "      <td>1812.793854</td>\n",
       "    </tr>\n",
       "    <tr>\n",
       "      <th>20</th>\n",
       "      <td>2020-07-21</td>\n",
       "      <td>1828.6</td>\n",
       "      <td>0.003569</td>\n",
       "      <td>1812.435478</td>\n",
       "    </tr>\n",
       "    <tr>\n",
       "      <th>21</th>\n",
       "      <td>2020-07-22</td>\n",
       "      <td>NaN</td>\n",
       "      <td>NaN</td>\n",
       "      <td>1814.430667</td>\n",
       "    </tr>\n",
       "    <tr>\n",
       "      <th>22</th>\n",
       "      <td>2020-07-23</td>\n",
       "      <td>NaN</td>\n",
       "      <td>NaN</td>\n",
       "      <td>1822.160227</td>\n",
       "    </tr>\n",
       "    <tr>\n",
       "      <th>23</th>\n",
       "      <td>2020-07-24</td>\n",
       "      <td>NaN</td>\n",
       "      <td>NaN</td>\n",
       "      <td>1835.126068</td>\n",
       "    </tr>\n",
       "  </tbody>\n",
       "</table>\n",
       "</div>"
      ],
      "text/plain": [
       "         date    Gold  return_prediction  predicted_price\n",
       "14 2020-07-15  1815.0           0.000156      1804.433997\n",
       "15 2020-07-16  1797.8           0.000553      1802.940722\n",
       "16 2020-07-17  1812.1           0.000383      1813.235626\n",
       "17 2020-07-18  1812.1           0.000185      1815.283871\n",
       "18 2020-07-19  1810.5           0.002171      1798.795062\n",
       "19 2020-07-20  1819.6           0.001407      1812.793854\n",
       "20 2020-07-21  1828.6           0.003569      1812.435478\n",
       "21 2020-07-22     NaN                NaN      1814.430667\n",
       "22 2020-07-23     NaN                NaN      1822.160227\n",
       "23 2020-07-24     NaN                NaN      1835.126068"
      ]
     },
     "execution_count": 21,
     "metadata": {},
     "output_type": "execute_result"
    }
   ],
   "source": [
    "results = pd.DataFrame()\n",
    "results['date']  = pd.date_range(start=infer_features['date'].iloc[0], end= infer_features['date'].iloc[-1] + timedelta(days=n_days_ahead))\n",
    "results = pd.merge(left=results, right=infer_values[['date','Gold']], on='date', how='left')\n",
    "results = pd.merge(left=results, right=df_predict[['date','return_prediction']], on='date', how='left')\n",
    "results ['predicted_price'] = results['Gold']*(results ['return_prediction']+1)\n",
    "results ['predicted_price'] = results ['predicted_price'].shift(n_days_ahead)\n",
    "results.tail(10)"
   ]
  },
  {
   "cell_type": "markdown",
   "metadata": {},
   "source": [
    "# Visualization of Predicted Values"
   ]
  },
  {
   "cell_type": "code",
   "execution_count": 22,
   "metadata": {
    "scrolled": true
   },
   "outputs": [
    {
     "data": {
      "text/plain": [
       "<matplotlib.legend.Legend at 0x1a1769eb38>"
      ]
     },
     "execution_count": 22,
     "metadata": {},
     "output_type": "execute_result"
    },
    {
     "data": {
      "image/png": "[encoded data removed]",
      "text/plain": [
       "<Figure size 864x432 with 1 Axes>"
      ]
     },
     "metadata": {},
     "output_type": "display_data"
    }
   ],
   "source": [
    "plt.figure(figsize=(12,6))\n",
    "plt.plot(results['date'], results['Gold'], label=\"real gold price\")\n",
    "plt.plot(results['date'], results['predicted_price'], label=\"predicted gold price\")\n",
    "plt.grid()\n",
    "plt.ylim([1500,1850])\n",
    "plt.legend()"
   ]
  },
  {
   "cell_type": "markdown",
   "metadata": {},
   "source": [
    "# Price Prediction"
   ]
  },
  {
   "cell_type": "code",
   "execution_count": 23,
   "metadata": {},
   "outputs": [],
   "source": [
    "prediction_date = '2020-07-24'"
   ]
  },
  {
   "cell_type": "code",
   "execution_count": 24,
   "metadata": {},
   "outputs": [
    {
     "name": "stdout",
     "output_type": "stream",
     "text": [
      "Predicted price for date 2020-07-24: 1835.13\n"
     ]
    }
   ],
   "source": [
    "print(\"Predicted price for date %s: %2.2f\" %(prediction_date,results[results['date']==prediction_date]['predicted_price'].values[0]))"
   ]
  },
  {
   "cell_type": "code",
   "execution_count": null,
   "metadata": {},
   "outputs": [],
   "source": []
  }
 ],
 "metadata": {
  "kernelspec": {
   "display_name": "Python [conda env:tensorflow]",
   "language": "python",
   "name": "conda-env-tensorflow-py"
  },
  "language_info": {
   "codemirror_mode": {
    "name": "ipython",
    "version": 3
   },
   "file_extension": ".py",
   "mimetype": "text/x-python",
   "name": "python",
   "nbconvert_exporter": "python",
   "pygments_lexer": "ipython3",
   "version": "3.6.5"
  }
 },
 "nbformat": 4,
 "nbformat_minor": 2
}
